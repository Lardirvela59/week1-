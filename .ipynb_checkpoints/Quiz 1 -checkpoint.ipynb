{
 "cells": [
  {
   "cell_type": "code",
   "execution_count": null,
   "id": "88c228c6",
   "metadata": {},
   "outputs": [],
   "source": [
    "name = input()\n",
    "n = f\"Hello {name}\"  \n",
    "print(n)"
   ]
  },
  {
   "cell_type": "code",
   "execution_count": null,
   "id": "1e0f5634",
   "metadata": {},
   "outputs": [],
   "source": [
    "w = float(input())\n",
    "l = float(input())\n",
    "area = w*l\n",
    "print(area)"
   ]
  },
  {
   "cell_type": "code",
   "execution_count": 8,
   "id": "9ced1658",
   "metadata": {},
   "outputs": [
    {
     "name": "stdout",
     "output_type": "stream",
     "text": [
      "10\n",
      "50\n",
      "0.01147842056932966\n"
     ]
    }
   ],
   "source": [
    "w = float(input()) #in feet\n",
    "l = float(input()) #in feet\n",
    "area = (w*l)/43560\n",
    "print(area)\n"
   ]
  },
  {
   "cell_type": "code",
   "execution_count": 10,
   "id": "6a2ab70e",
   "metadata": {},
   "outputs": [
    {
     "name": "stdout",
     "output_type": "stream",
     "text": [
      "3\n",
      "6.0\n"
     ]
    }
   ],
   "source": [
    "n = int(input())\n",
    "sum = n*(n+1)/2\n",
    "print(sum)"
   ]
  }
 ],
 "metadata": {
  "kernelspec": {
   "display_name": "Python 3 (ipykernel)",
   "language": "python",
   "name": "python3"
  },
  "language_info": {
   "codemirror_mode": {
    "name": "ipython",
    "version": 3
   },
   "file_extension": ".py",
   "mimetype": "text/x-python",
   "name": "python",
   "nbconvert_exporter": "python",
   "pygments_lexer": "ipython3",
   "version": "3.9.12"
  }
 },
 "nbformat": 4,
 "nbformat_minor": 5
}
