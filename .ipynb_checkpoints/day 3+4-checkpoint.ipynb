{
 "cells": [
  {
   "cell_type": "code",
   "execution_count": 1,
   "id": "20da6f60",
   "metadata": {},
   "outputs": [
    {
     "name": "stdout",
     "output_type": "stream",
     "text": [
      "age: 21\n",
      "You can enter\n"
     ]
    }
   ],
   "source": [
    "age = int(input(\"age: \"))\n",
    "if age <= 18:\n",
    "    print(\"You can't enter\")\n",
    "else:\n",
    "    print(\"You can enter\")\n"
   ]
  },
  {
   "cell_type": "code",
   "execution_count": 2,
   "id": "b087bdef",
   "metadata": {},
   "outputs": [
    {
     "name": "stdout",
     "output_type": "stream",
     "text": [
      "sex: male\n",
      "age: 34\n",
      "You can enter boy\n"
     ]
    }
   ],
   "source": [
    "sex = str(input(\"sex: \"))\n",
    "age = int(input(\"age: \"))\n",
    "if sex =='male':\n",
    "  if age <= 18:\n",
    "    print(\"You can't enter boy\")\n",
    "  else:\n",
    "      print(\"You can enter boy\")\n",
    "elif sex =='female':\n",
    "  if age <= 18:\n",
    "    print(\"You can't enter girl\")\n",
    "  else:\n",
    "      print(\"You can enter girl\")\n",
    "        \n",
    "        "
   ]
  },
  {
   "cell_type": "code",
   "execution_count": 34,
   "id": "5c672d97",
   "metadata": {},
   "outputs": [
    {
     "name": "stdout",
     "output_type": "stream",
     "text": [
      "3\n"
     ]
    }
   ],
   "source": [
    "import random \n",
    "a = random.randint(1,5)\n",
    "print(a)"
   ]
  },
  {
   "cell_type": "code",
   "execution_count": 2,
   "id": "441ac223",
   "metadata": {},
   "outputs": [
    {
     "name": "stdout",
     "output_type": "stream",
     "text": [
      "Welcome to rock, paper, scissor Game\n",
      "What do you choose\n",
      "rock(0), paper(1), scissor(2)\n",
      "1\n",
      "1\n"
     ]
    }
   ],
   "source": [
    "import random \n",
    "a = random.randint(0,2)\n",
    "print(\"Welcome to rock, paper, scissor Game\")\n",
    "print(\"What do you choose\")\n",
    "print(\"rock(0), paper(1), scissor(2)\")\n",
    "choose = int(input())\n",
    "if choose == 0:\n",
    "     print(a)\n",
    "elif choose == 1:\n",
    "     print(a)\n",
    "elif choose == 2:\n",
    "     print(a)"
   ]
  },
  {
   "cell_type": "code",
   "execution_count": 1,
   "id": "b9889a18",
   "metadata": {},
   "outputs": [
    {
     "name": "stdout",
     "output_type": "stream",
     "text": [
      "Welcome to rock, paper, scissor Game\n",
      "What do you choose\n",
      "rock(0), paper(1), scissor(2)\n",
      "chose: 0\n",
      "computer: 2\n",
      " You win\n"
     ]
    }
   ],
   "source": [
    "import random \n",
    "computer = random.randint(0,2)\n",
    "print(\"Welcome to rock, paper, scissor Game\")\n",
    "print(\"What do you choose\")\n",
    "print(\"rock(0), paper(1), scissor(2)\")\n",
    "choose = int(input(\"chose: \"))\n",
    "if choose == 0 and computer == 2:\n",
    "    print(f\"computer: {computer}\\n You win\")\n",
    "elif choose == 0 and computer == 1:\n",
    "    print(f\"computer: {computer}\\n You lose\")\n",
    "elif choose == 1 and computer == 0:\n",
    "    print(f\"computer: {computer}\\n You win\")\n",
    "elif choose == 1 and computer == 2:\n",
    "    print(f\"computer: {computer}\\n You lose\")\n",
    "elif choose == 2 and computer == 1:\n",
    "    print(f\"computer: {computer}\\n You win\")\n",
    "elif choose == 2 and computer == 0:\n",
    "    print(f\"computer: {computer}\\n You lose\")"
   ]
  },
  {
   "cell_type": "code",
   "execution_count": 27,
   "id": "b7953562",
   "metadata": {},
   "outputs": [
    {
     "name": "stdout",
     "output_type": "stream",
     "text": [
      "Pleas input year: 1\n",
      "Is not leap year\n"
     ]
    }
   ],
   "source": [
    "#exercise: leap year\n",
    "year = int(input(\"Pleas input year: \"))\n",
    "if year%4 == 0:\n",
    "    print(\"Is leap year\")\n",
    "elif year%100 != 0:\n",
    "     print(\"Is not leap year\")\n",
    "elif year%400 == 0:\n",
    "     print(\"Is leap year\")\n"
   ]
  },
  {
   "cell_type": "code",
   "execution_count": null,
   "id": "c048a79d",
   "metadata": {},
   "outputs": [],
   "source": []
  }
 ],
 "metadata": {
  "kernelspec": {
   "display_name": "Python 3 (ipykernel)",
   "language": "python",
   "name": "python3"
  },
  "language_info": {
   "codemirror_mode": {
    "name": "ipython",
    "version": 3
   },
   "file_extension": ".py",
   "mimetype": "text/x-python",
   "name": "python",
   "nbconvert_exporter": "python",
   "pygments_lexer": "ipython3",
   "version": "3.9.12"
  }
 },
 "nbformat": 4,
 "nbformat_minor": 5
}
