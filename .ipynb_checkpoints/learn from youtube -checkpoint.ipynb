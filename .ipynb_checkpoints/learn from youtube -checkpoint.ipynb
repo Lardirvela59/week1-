{
 "cells": [
  {
   "cell_type": "code",
   "execution_count": 1,
   "id": "d7a1a7e5",
   "metadata": {},
   "outputs": [],
   "source": [
    "def get_choices():\n",
    "    player_choice = \"Rock\"\n",
    "    computer_choice = \"Paper\"\n",
    "    \n",
    "    return player_choice"
   ]
  }
 ],
 "metadata": {
  "kernelspec": {
   "display_name": "Python 3 (ipykernel)",
   "language": "python",
   "name": "python3"
  },
  "language_info": {
   "codemirror_mode": {
    "name": "ipython",
    "version": 3
   },
   "file_extension": ".py",
   "mimetype": "text/x-python",
   "name": "python",
   "nbconvert_exporter": "python",
   "pygments_lexer": "ipython3",
   "version": "3.9.12"
  }
 },
 "nbformat": 4,
 "nbformat_minor": 5
}
