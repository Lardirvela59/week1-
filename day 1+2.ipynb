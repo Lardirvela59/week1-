{
 "cells": [
  {
   "cell_type": "code",
   "execution_count": 1,
   "id": "c542b26f",
   "metadata": {},
   "outputs": [
    {
     "name": "stdout",
     "output_type": "stream",
     "text": [
      "Please enter the name: j\n",
      "j\n",
      "hello j\n"
     ]
    }
   ],
   "source": [
    "name = input(\"Please enter the name: \")\n",
    "print(name)\n",
    "n = f\"hello {name}\"\n",
    "print(n)\n"
   ]
  },
  {
   "cell_type": "code",
   "execution_count": 7,
   "id": "6bac62da",
   "metadata": {},
   "outputs": [
    {
     "name": "stdout",
     "output_type": "stream",
     "text": [
      "20\n"
     ]
    }
   ],
   "source": [
    "print(2+3*(2*3))"
   ]
  },
  {
   "cell_type": "code",
   "execution_count": 8,
   "id": "7f179a82",
   "metadata": {},
   "outputs": [
    {
     "name": "stdout",
     "output_type": "stream",
     "text": [
      "16\n"
     ]
    }
   ],
   "source": [
    "print(4**2)"
   ]
  },
  {
   "cell_type": "code",
   "execution_count": 9,
   "id": "d3b586f7",
   "metadata": {},
   "outputs": [
    {
     "name": "stdout",
     "output_type": "stream",
     "text": [
      "1\n"
     ]
    }
   ],
   "source": [
    "print(5%2)"
   ]
  },
  {
   "cell_type": "code",
   "execution_count": 12,
   "id": "7de2cf56",
   "metadata": {},
   "outputs": [
    {
     "name": "stdout",
     "output_type": "stream",
     "text": [
      "2\n"
     ]
    }
   ],
   "source": [
    "print(5//2)"
   ]
  },
  {
   "cell_type": "code",
   "execution_count": 11,
   "id": "a9d50c50",
   "metadata": {},
   "outputs": [],
   "source": [
    "name = \"Michael Jackson\"\n",
    "name1 = 3\n",
    "name2 = 3.14\n",
    "name = 6"
   ]
  },
  {
   "cell_type": "code",
   "execution_count": 27,
   "id": "2223c43f",
   "metadata": {},
   "outputs": [
    {
     "name": "stdout",
     "output_type": "stream",
     "text": [
      "My name is Michael 5\n"
     ]
    }
   ],
   "source": [
    "first_name = \"Michael\"\n",
    "#last_name = \"Jackson\"\n",
    "last_name = 5\n",
    "#full_name = first_name +\" \"+ last_name\n",
    "full_name = f\"My name is {first_name} {last_name}\"\n",
    "print(full_name)"
   ]
  },
  {
   "cell_type": "code",
   "execution_count": 28,
   "id": "33c9af6f",
   "metadata": {},
   "outputs": [
    {
     "name": "stdout",
     "output_type": "stream",
     "text": [
      "I have 100 dogs\n",
      "My 2 dogs are crazy\n"
     ]
    }
   ],
   "source": [
    "x = 100\n",
    "z = 2\n",
    "\n",
    "t = f\"I have {x} dogs\"\n",
    "m = f\"My {z} dogs are crazy\"\n",
    "\n",
    "print(t)\n",
    "print(m)"
   ]
  },
  {
   "cell_type": "code",
   "execution_count": 2,
   "id": "9616a76e",
   "metadata": {},
   "outputs": [
    {
     "name": "stdout",
     "output_type": "stream",
     "text": [
      "<class 'float'>\n",
      "<class 'int'>\n"
     ]
    }
   ],
   "source": [
    "number = 12.2345667\n",
    "num = int(number)\n",
    "print(type(number))\n",
    "print(type(num))"
   ]
  },
  {
   "cell_type": "code",
   "execution_count": 3,
   "id": "560e18ed",
   "metadata": {},
   "outputs": [
    {
     "name": "stdout",
     "output_type": "stream",
     "text": [
      "<class 'int'>\n"
     ]
    }
   ],
   "source": [
    "num = int(number)\n",
    "print(type(num))"
   ]
  },
  {
   "cell_type": "code",
   "execution_count": null,
   "id": "0f756ab7",
   "metadata": {},
   "outputs": [],
   "source": [
    "name = input(\"Please enter your name: \")\n",
    "print(name)\n"
   ]
  }
 ],
 "metadata": {
  "kernelspec": {
   "display_name": "Python 3 (ipykernel)",
   "language": "python",
   "name": "python3"
  },
  "language_info": {
   "codemirror_mode": {
    "name": "ipython",
    "version": 3
   },
   "file_extension": ".py",
   "mimetype": "text/x-python",
   "name": "python",
   "nbconvert_exporter": "python",
   "pygments_lexer": "ipython3",
   "version": "3.9.12"
  }
 },
 "nbformat": 4,
 "nbformat_minor": 5
}
